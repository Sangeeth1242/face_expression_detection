{
 "cells": [
  {
   "cell_type": "code",
   "execution_count": 8,
   "id": "35fd0c5f",
   "metadata": {},
   "outputs": [],
   "source": [
    "import numpy as np\n",
    "import argparse\n",
    "import matplotlib.pyplot as plt\n",
    "import cv2\n",
    "import sys\n",
    "from tensorflow.keras.models import Sequential\n",
    "from tensorflow.keras.layers import Dense, Dropout, Flatten\n",
    "from tensorflow.keras.layers import Conv2D\n",
    "from tensorflow.keras.optimizers import Adam\n",
    "from tensorflow.keras.layers import MaxPooling2D\n",
    "from tensorflow.keras.preprocessing.image import ImageDataGenerator\n",
    "import os"
   ]
  },
  {
   "cell_type": "code",
   "execution_count": 10,
   "id": "007de175",
   "metadata": {},
   "outputs": [],
   "source": [
    "os.environ['TF_CPP_MIN_LOG_LEVEL'] = '2'"
   ]
  },
  {
   "cell_type": "code",
   "execution_count": 11,
   "id": "96e527df",
   "metadata": {},
   "outputs": [],
   "source": [
    "if __name__ == \"__main__\":\n",
    "    if 'ipykernel_launcher' in sys.argv[0]:\n",
    "        # Running inside a Jupyter Notebook\n",
    "        args = None  # Or set default arguments\n",
    "    else:\n",
    "        parser = argparse.ArgumentParser()\n",
    "        parser.add_argument('--mode', type=str, help='Mode of operation')\n",
    "        args = parser.parse_args()"
   ]
  },
  {
   "cell_type": "code",
   "execution_count": 12,
   "id": "2d42484d",
   "metadata": {},
   "outputs": [],
   "source": [
    "def plot_model_history(model_history):\n",
    "    \"\"\"\n",
    "    Plot Accuracy and Loss curves given the model_history\n",
    "    \"\"\"\n",
    "    fig, axs = plt.subplots(1,2,figsize=(15,5))\n",
    "    # summarize history for accuracy\n",
    "    axs[0].plot(range(1,len(model_history.history['accuracy'])+1),model_history.history['accuracy'])\n",
    "    axs[0].plot(range(1,len(model_history.history['val_accuracy'])+1),model_history.history['val_accuracy'])\n",
    "    axs[0].set_title('Model Accuracy')\n",
    "    axs[0].set_ylabel('Accuracy')\n",
    "    axs[0].set_xlabel('Epoch')\n",
    "    axs[0].set_xticks(np.arange(1,len(model_history.history['accuracy'])+1),len(model_history.history['accuracy'])/10)\n",
    "    axs[0].legend(['train', 'val'], loc='best')\n",
    "    # summarize history for loss\n",
    "    axs[1].plot(range(1,len(model_history.history['loss'])+1),model_history.history['loss'])\n",
    "    axs[1].plot(range(1,len(model_history.history['val_loss'])+1),model_history.history['val_loss'])\n",
    "    axs[1].set_title('Model Loss')\n",
    "    axs[1].set_ylabel('Loss')\n",
    "    axs[1].set_xlabel('Epoch')\n",
    "    axs[1].set_xticks(np.arange(1,len(model_history.history['loss'])+1),len(model_history.history['loss'])/10)\n",
    "    axs[1].legend(['train', 'val'], loc='best')\n",
    "    fig.savefig('plot.png')\n",
    "    plt.show()"
   ]
  },
  {
   "cell_type": "code",
   "execution_count": 13,
   "id": "5a86abbd",
   "metadata": {},
   "outputs": [],
   "source": [
    "train_dir = 'C:/Users/sange/pract/kaggle compete/face expression detector/archive/data/train'\n",
    "val_dir = 'C:/Users/sange/pract/kaggle compete/face expression detector/archive/data/test'"
   ]
  },
  {
   "cell_type": "code",
   "execution_count": 14,
   "id": "ca87ff73",
   "metadata": {},
   "outputs": [],
   "source": [
    "num_train = 28709\n",
    "num_val = 7178\n",
    "batch_size = 64\n",
    "num_epoch = 50"
   ]
  },
  {
   "cell_type": "code",
   "execution_count": 15,
   "id": "6179c045",
   "metadata": {},
   "outputs": [],
   "source": [
    "train_datagen = ImageDataGenerator(rescale=1./255)\n",
    "val_datagen = ImageDataGenerator(rescale=1./255)"
   ]
  },
  {
   "cell_type": "code",
   "execution_count": 16,
   "id": "8377ddbc",
   "metadata": {},
   "outputs": [
    {
     "name": "stdout",
     "output_type": "stream",
     "text": [
      "Found 28709 images belonging to 7 classes.\n"
     ]
    }
   ],
   "source": [
    "train_generator = train_datagen.flow_from_directory(\n",
    "        train_dir,\n",
    "        target_size=(48,48),\n",
    "        batch_size=batch_size,\n",
    "        color_mode=\"grayscale\",\n",
    "        class_mode='categorical')"
   ]
  },
  {
   "cell_type": "code",
   "execution_count": 17,
   "id": "9e3eb844",
   "metadata": {},
   "outputs": [
    {
     "name": "stdout",
     "output_type": "stream",
     "text": [
      "Found 7178 images belonging to 7 classes.\n"
     ]
    }
   ],
   "source": [
    "validation_generator = val_datagen.flow_from_directory(\n",
    "        val_dir,\n",
    "        target_size=(48,48),\n",
    "        batch_size=batch_size,\n",
    "        color_mode=\"grayscale\",\n",
    "        class_mode='categorical')"
   ]
  },
  {
   "cell_type": "code",
   "execution_count": 18,
   "id": "2166fd4d",
   "metadata": {},
   "outputs": [
    {
     "name": "stdout",
     "output_type": "stream",
     "text": [
      "WARNING:tensorflow:From C:\\Users\\sange\\anaconda3\\Lib\\site-packages\\keras\\src\\backend.py:873: The name tf.get_default_graph is deprecated. Please use tf.compat.v1.get_default_graph instead.\n",
      "\n",
      "WARNING:tensorflow:From C:\\Users\\sange\\anaconda3\\Lib\\site-packages\\keras\\src\\layers\\pooling\\max_pooling2d.py:161: The name tf.nn.max_pool is deprecated. Please use tf.nn.max_pool2d instead.\n",
      "\n"
     ]
    }
   ],
   "source": [
    "model = Sequential()\n",
    "\n",
    "model.add(Conv2D(32, kernel_size=(3, 3), activation='relu', input_shape=(48,48,1)))\n",
    "model.add(Conv2D(64, kernel_size=(3, 3), activation='relu'))\n",
    "model.add(MaxPooling2D(pool_size=(2, 2)))\n",
    "model.add(Dropout(0.25))\n",
    "\n",
    "model.add(Conv2D(128, kernel_size=(3, 3), activation='relu'))\n",
    "model.add(MaxPooling2D(pool_size=(2, 2)))\n",
    "model.add(Conv2D(128, kernel_size=(3, 3), activation='relu'))\n",
    "model.add(MaxPooling2D(pool_size=(2, 2)))\n",
    "model.add(Dropout(0.25))\n",
    "\n",
    "model.add(Flatten())\n",
    "model.add(Dense(1024, activation='relu'))\n",
    "model.add(Dropout(0.5))\n",
    "model.add(Dense(7, activation='softmax'))"
   ]
  },
  {
   "cell_type": "code",
   "execution_count": 22,
   "id": "bcee60dd",
   "metadata": {},
   "outputs": [
    {
     "name": "stderr",
     "output_type": "stream",
     "text": [
      "WARNING:absl:`lr` is deprecated in Keras optimizer, please use `learning_rate` or use the legacy optimizer, e.g.,tf.keras.optimizers.legacy.Adam.\n",
      "C:\\Users\\sange\\AppData\\Local\\Temp\\ipykernel_8168\\3870918119.py:2: UserWarning: `Model.fit_generator` is deprecated and will be removed in a future version. Please use `Model.fit`, which supports generators.\n",
      "  model_info = model.fit_generator(\n"
     ]
    },
    {
     "name": "stdout",
     "output_type": "stream",
     "text": [
      "Epoch 1/50\n",
      "WARNING:tensorflow:From C:\\Users\\sange\\anaconda3\\Lib\\site-packages\\keras\\src\\utils\\tf_utils.py:492: The name tf.ragged.RaggedTensorValue is deprecated. Please use tf.compat.v1.ragged.RaggedTensorValue instead.\n",
      "\n"
     ]
    },
    {
     "name": "stderr",
     "output_type": "stream",
     "text": [
      "WARNING:tensorflow:From C:\\Users\\sange\\anaconda3\\Lib\\site-packages\\keras\\src\\utils\\tf_utils.py:492: The name tf.ragged.RaggedTensorValue is deprecated. Please use tf.compat.v1.ragged.RaggedTensorValue instead.\n",
      "\n"
     ]
    },
    {
     "name": "stdout",
     "output_type": "stream",
     "text": [
      "WARNING:tensorflow:From C:\\Users\\sange\\anaconda3\\Lib\\site-packages\\keras\\src\\engine\\base_layer_utils.py:384: The name tf.executing_eagerly_outside_functions is deprecated. Please use tf.compat.v1.executing_eagerly_outside_functions instead.\n",
      "\n"
     ]
    },
    {
     "name": "stderr",
     "output_type": "stream",
     "text": [
      "WARNING:tensorflow:From C:\\Users\\sange\\anaconda3\\Lib\\site-packages\\keras\\src\\engine\\base_layer_utils.py:384: The name tf.executing_eagerly_outside_functions is deprecated. Please use tf.compat.v1.executing_eagerly_outside_functions instead.\n",
      "\n"
     ]
    },
    {
     "name": "stdout",
     "output_type": "stream",
     "text": [
      "448/448 [==============================] - 344s 761ms/step - loss: 1.7245 - accuracy: 0.3010 - val_loss: 1.5384 - val_accuracy: 0.4071\n",
      "Epoch 2/50\n",
      "448/448 [==============================] - 82s 184ms/step - loss: 1.4191 - accuracy: 0.4503 - val_loss: 1.2996 - val_accuracy: 0.4978\n",
      "Epoch 3/50\n",
      "448/448 [==============================] - 75s 167ms/step - loss: 1.2643 - accuracy: 0.5146 - val_loss: 1.1978 - val_accuracy: 0.5381\n",
      "Epoch 4/50\n",
      "448/448 [==============================] - 75s 167ms/step - loss: 1.1858 - accuracy: 0.5453 - val_loss: 1.1337 - val_accuracy: 0.5598\n",
      "Epoch 5/50\n",
      "448/448 [==============================] - 76s 170ms/step - loss: 1.1247 - accuracy: 0.5730 - val_loss: 1.1144 - val_accuracy: 0.5756\n",
      "Epoch 6/50\n",
      "448/448 [==============================] - 74s 165ms/step - loss: 1.0755 - accuracy: 0.5931 - val_loss: 1.0957 - val_accuracy: 0.5808\n",
      "Epoch 7/50\n",
      "448/448 [==============================] - 74s 166ms/step - loss: 1.0215 - accuracy: 0.6164 - val_loss: 1.0782 - val_accuracy: 0.5905\n",
      "Epoch 8/50\n",
      "448/448 [==============================] - 88s 195ms/step - loss: 0.9796 - accuracy: 0.6317 - val_loss: 1.0754 - val_accuracy: 0.5995\n",
      "Epoch 9/50\n",
      "448/448 [==============================] - 91s 204ms/step - loss: 0.9372 - accuracy: 0.6489 - val_loss: 1.0572 - val_accuracy: 0.6080\n",
      "Epoch 10/50\n",
      "448/448 [==============================] - 79s 176ms/step - loss: 0.8957 - accuracy: 0.6615 - val_loss: 1.0502 - val_accuracy: 0.6154\n",
      "Epoch 11/50\n",
      "448/448 [==============================] - 77s 172ms/step - loss: 0.8570 - accuracy: 0.6775 - val_loss: 1.0592 - val_accuracy: 0.6119\n",
      "Epoch 12/50\n",
      "448/448 [==============================] - 77s 171ms/step - loss: 0.8164 - accuracy: 0.6924 - val_loss: 1.0726 - val_accuracy: 0.6120\n",
      "Epoch 13/50\n",
      "448/448 [==============================] - 74s 164ms/step - loss: 0.7697 - accuracy: 0.7106 - val_loss: 1.0724 - val_accuracy: 0.6190\n",
      "Epoch 14/50\n",
      "448/448 [==============================] - 74s 165ms/step - loss: 0.7471 - accuracy: 0.7235 - val_loss: 1.0855 - val_accuracy: 0.6152\n",
      "Epoch 15/50\n",
      "448/448 [==============================] - 76s 169ms/step - loss: 0.7090 - accuracy: 0.7349 - val_loss: 1.0824 - val_accuracy: 0.6267\n",
      "Epoch 16/50\n",
      "448/448 [==============================] - 73s 164ms/step - loss: 0.6876 - accuracy: 0.7480 - val_loss: 1.1056 - val_accuracy: 0.6232\n",
      "Epoch 17/50\n",
      "448/448 [==============================] - 73s 163ms/step - loss: 0.6575 - accuracy: 0.7569 - val_loss: 1.0864 - val_accuracy: 0.6277\n",
      "Epoch 18/50\n",
      "448/448 [==============================] - 73s 162ms/step - loss: 0.6295 - accuracy: 0.7666 - val_loss: 1.1263 - val_accuracy: 0.6197\n",
      "Epoch 19/50\n",
      "448/448 [==============================] - 73s 162ms/step - loss: 0.6123 - accuracy: 0.7743 - val_loss: 1.1338 - val_accuracy: 0.6253\n",
      "Epoch 20/50\n",
      "448/448 [==============================] - 73s 163ms/step - loss: 0.5835 - accuracy: 0.7835 - val_loss: 1.1179 - val_accuracy: 0.6290\n",
      "Epoch 21/50\n",
      "448/448 [==============================] - 72s 161ms/step - loss: 0.5586 - accuracy: 0.7958 - val_loss: 1.1405 - val_accuracy: 0.6265\n",
      "Epoch 22/50\n",
      "448/448 [==============================] - 72s 161ms/step - loss: 0.5404 - accuracy: 0.8027 - val_loss: 1.1555 - val_accuracy: 0.6230\n",
      "Epoch 23/50\n",
      "448/448 [==============================] - 72s 162ms/step - loss: 0.5286 - accuracy: 0.8072 - val_loss: 1.1989 - val_accuracy: 0.6198\n",
      "Epoch 24/50\n",
      "448/448 [==============================] - 73s 162ms/step - loss: 0.5190 - accuracy: 0.8094 - val_loss: 1.1600 - val_accuracy: 0.6263\n",
      "Epoch 25/50\n",
      "448/448 [==============================] - 73s 162ms/step - loss: 0.5063 - accuracy: 0.8134 - val_loss: 1.2182 - val_accuracy: 0.6247\n",
      "Epoch 26/50\n",
      "448/448 [==============================] - 73s 162ms/step - loss: 0.4913 - accuracy: 0.8214 - val_loss: 1.2120 - val_accuracy: 0.6205\n",
      "Epoch 27/50\n",
      "448/448 [==============================] - 73s 162ms/step - loss: 0.4775 - accuracy: 0.8263 - val_loss: 1.1803 - val_accuracy: 0.6247\n",
      "Epoch 28/50\n",
      "448/448 [==============================] - 73s 163ms/step - loss: 0.4746 - accuracy: 0.8278 - val_loss: 1.1615 - val_accuracy: 0.6256\n",
      "Epoch 29/50\n",
      "448/448 [==============================] - 72s 161ms/step - loss: 0.4565 - accuracy: 0.8330 - val_loss: 1.2248 - val_accuracy: 0.6161\n",
      "Epoch 30/50\n",
      "448/448 [==============================] - 73s 162ms/step - loss: 0.4513 - accuracy: 0.8369 - val_loss: 1.2103 - val_accuracy: 0.6233\n",
      "Epoch 31/50\n",
      "448/448 [==============================] - 72s 161ms/step - loss: 0.4409 - accuracy: 0.8399 - val_loss: 1.2140 - val_accuracy: 0.6277\n",
      "Epoch 32/50\n",
      "448/448 [==============================] - 73s 162ms/step - loss: 0.4277 - accuracy: 0.8451 - val_loss: 1.1870 - val_accuracy: 0.6229\n",
      "Epoch 33/50\n",
      "448/448 [==============================] - 73s 163ms/step - loss: 0.4194 - accuracy: 0.8494 - val_loss: 1.2156 - val_accuracy: 0.6258\n",
      "Epoch 34/50\n",
      "448/448 [==============================] - 72s 161ms/step - loss: 0.4152 - accuracy: 0.8465 - val_loss: 1.2257 - val_accuracy: 0.6297\n",
      "Epoch 35/50\n",
      "448/448 [==============================] - 73s 163ms/step - loss: 0.4044 - accuracy: 0.8554 - val_loss: 1.2783 - val_accuracy: 0.6247\n",
      "Epoch 36/50\n",
      "448/448 [==============================] - 72s 161ms/step - loss: 0.4016 - accuracy: 0.8534 - val_loss: 1.2482 - val_accuracy: 0.6239\n",
      "Epoch 37/50\n",
      "448/448 [==============================] - 73s 162ms/step - loss: 0.3948 - accuracy: 0.8576 - val_loss: 1.2916 - val_accuracy: 0.6285\n",
      "Epoch 38/50\n",
      "448/448 [==============================] - 73s 162ms/step - loss: 0.3765 - accuracy: 0.8645 - val_loss: 1.2930 - val_accuracy: 0.6257\n",
      "Epoch 39/50\n",
      "448/448 [==============================] - 73s 163ms/step - loss: 0.3821 - accuracy: 0.8618 - val_loss: 1.2915 - val_accuracy: 0.6253\n",
      "Epoch 40/50\n",
      "448/448 [==============================] - 73s 164ms/step - loss: 0.3794 - accuracy: 0.8643 - val_loss: 1.2708 - val_accuracy: 0.6190\n",
      "Epoch 41/50\n",
      "448/448 [==============================] - 73s 162ms/step - loss: 0.3656 - accuracy: 0.8680 - val_loss: 1.3326 - val_accuracy: 0.6277\n",
      "Epoch 42/50\n",
      "448/448 [==============================] - 73s 162ms/step - loss: 0.3525 - accuracy: 0.8737 - val_loss: 1.3076 - val_accuracy: 0.6290\n",
      "Epoch 43/50\n",
      "448/448 [==============================] - 73s 162ms/step - loss: 0.3577 - accuracy: 0.8718 - val_loss: 1.2894 - val_accuracy: 0.6251\n",
      "Epoch 44/50\n",
      "448/448 [==============================] - 72s 162ms/step - loss: 0.3352 - accuracy: 0.8815 - val_loss: 1.3607 - val_accuracy: 0.6243\n",
      "Epoch 45/50\n",
      "448/448 [==============================] - 75s 167ms/step - loss: 0.3391 - accuracy: 0.8786 - val_loss: 1.3464 - val_accuracy: 0.6214\n",
      "Epoch 46/50\n",
      "448/448 [==============================] - 73s 162ms/step - loss: 0.3349 - accuracy: 0.8815 - val_loss: 1.3280 - val_accuracy: 0.6300\n",
      "Epoch 47/50\n",
      "448/448 [==============================] - 73s 164ms/step - loss: 0.3421 - accuracy: 0.8767 - val_loss: 1.3336 - val_accuracy: 0.6229\n",
      "Epoch 48/50\n",
      "448/448 [==============================] - 72s 162ms/step - loss: 0.3351 - accuracy: 0.8813 - val_loss: 1.3353 - val_accuracy: 0.6261\n",
      "Epoch 49/50\n",
      "448/448 [==============================] - 73s 163ms/step - loss: 0.3313 - accuracy: 0.8825 - val_loss: 1.3549 - val_accuracy: 0.6208\n",
      "Epoch 50/50\n",
      "448/448 [==============================] - 73s 163ms/step - loss: 0.3287 - accuracy: 0.8849 - val_loss: 1.3092 - val_accuracy: 0.6187\n"
     ]
    },
    {
     "ename": "TypeError",
     "evalue": "5.0 must be a sequence",
     "output_type": "error",
     "traceback": [
      "\u001b[1;31m---------------------------------------------------------------------------\u001b[0m",
      "\u001b[1;31mTypeError\u001b[0m                                 Traceback (most recent call last)",
      "Cell \u001b[1;32mIn[22], line 8\u001b[0m\n\u001b[0;32m      1\u001b[0m model\u001b[38;5;241m.\u001b[39mcompile(loss\u001b[38;5;241m=\u001b[39m\u001b[38;5;124m'\u001b[39m\u001b[38;5;124mcategorical_crossentropy\u001b[39m\u001b[38;5;124m'\u001b[39m,optimizer\u001b[38;5;241m=\u001b[39mAdam(lr\u001b[38;5;241m=\u001b[39m\u001b[38;5;241m0.0001\u001b[39m),metrics\u001b[38;5;241m=\u001b[39m[\u001b[38;5;124m'\u001b[39m\u001b[38;5;124maccuracy\u001b[39m\u001b[38;5;124m'\u001b[39m])\n\u001b[0;32m      2\u001b[0m model_info \u001b[38;5;241m=\u001b[39m model\u001b[38;5;241m.\u001b[39mfit_generator(\n\u001b[0;32m      3\u001b[0m             train_generator,\n\u001b[0;32m      4\u001b[0m             steps_per_epoch\u001b[38;5;241m=\u001b[39mnum_train \u001b[38;5;241m/\u001b[39m\u001b[38;5;241m/\u001b[39m batch_size,\n\u001b[0;32m      5\u001b[0m             epochs\u001b[38;5;241m=\u001b[39mnum_epoch,\n\u001b[0;32m      6\u001b[0m             validation_data\u001b[38;5;241m=\u001b[39mvalidation_generator,\n\u001b[0;32m      7\u001b[0m             validation_steps\u001b[38;5;241m=\u001b[39mnum_val \u001b[38;5;241m/\u001b[39m\u001b[38;5;241m/\u001b[39m batch_size)\n\u001b[1;32m----> 8\u001b[0m plot_model_history(model_info)\n\u001b[0;32m      9\u001b[0m model\u001b[38;5;241m.\u001b[39msave_weights(\u001b[38;5;124m'\u001b[39m\u001b[38;5;124mmodel.h5\u001b[39m\u001b[38;5;124m'\u001b[39m)\n",
      "Cell \u001b[1;32mIn[12], line 12\u001b[0m, in \u001b[0;36mplot_model_history\u001b[1;34m(model_history)\u001b[0m\n\u001b[0;32m     10\u001b[0m axs[\u001b[38;5;241m0\u001b[39m]\u001b[38;5;241m.\u001b[39mset_ylabel(\u001b[38;5;124m'\u001b[39m\u001b[38;5;124mAccuracy\u001b[39m\u001b[38;5;124m'\u001b[39m)\n\u001b[0;32m     11\u001b[0m axs[\u001b[38;5;241m0\u001b[39m]\u001b[38;5;241m.\u001b[39mset_xlabel(\u001b[38;5;124m'\u001b[39m\u001b[38;5;124mEpoch\u001b[39m\u001b[38;5;124m'\u001b[39m)\n\u001b[1;32m---> 12\u001b[0m axs[\u001b[38;5;241m0\u001b[39m]\u001b[38;5;241m.\u001b[39mset_xticks(np\u001b[38;5;241m.\u001b[39marange(\u001b[38;5;241m1\u001b[39m,\u001b[38;5;28mlen\u001b[39m(model_history\u001b[38;5;241m.\u001b[39mhistory[\u001b[38;5;124m'\u001b[39m\u001b[38;5;124maccuracy\u001b[39m\u001b[38;5;124m'\u001b[39m])\u001b[38;5;241m+\u001b[39m\u001b[38;5;241m1\u001b[39m),\u001b[38;5;28mlen\u001b[39m(model_history\u001b[38;5;241m.\u001b[39mhistory[\u001b[38;5;124m'\u001b[39m\u001b[38;5;124maccuracy\u001b[39m\u001b[38;5;124m'\u001b[39m])\u001b[38;5;241m/\u001b[39m\u001b[38;5;241m10\u001b[39m)\n\u001b[0;32m     13\u001b[0m axs[\u001b[38;5;241m0\u001b[39m]\u001b[38;5;241m.\u001b[39mlegend([\u001b[38;5;124m'\u001b[39m\u001b[38;5;124mtrain\u001b[39m\u001b[38;5;124m'\u001b[39m, \u001b[38;5;124m'\u001b[39m\u001b[38;5;124mval\u001b[39m\u001b[38;5;124m'\u001b[39m], loc\u001b[38;5;241m=\u001b[39m\u001b[38;5;124m'\u001b[39m\u001b[38;5;124mbest\u001b[39m\u001b[38;5;124m'\u001b[39m)\n\u001b[0;32m     14\u001b[0m \u001b[38;5;66;03m# summarize history for loss\u001b[39;00m\n",
      "File \u001b[1;32m~\\anaconda3\\Lib\\site-packages\\matplotlib\\axes\\_base.py:74\u001b[0m, in \u001b[0;36m_axis_method_wrapper.__set_name__.<locals>.wrapper\u001b[1;34m(self, *args, **kwargs)\u001b[0m\n\u001b[0;32m     73\u001b[0m \u001b[38;5;28;01mdef\u001b[39;00m \u001b[38;5;21mwrapper\u001b[39m(\u001b[38;5;28mself\u001b[39m, \u001b[38;5;241m*\u001b[39margs, \u001b[38;5;241m*\u001b[39m\u001b[38;5;241m*\u001b[39mkwargs):\n\u001b[1;32m---> 74\u001b[0m     \u001b[38;5;28;01mreturn\u001b[39;00m get_method(\u001b[38;5;28mself\u001b[39m)(\u001b[38;5;241m*\u001b[39margs, \u001b[38;5;241m*\u001b[39m\u001b[38;5;241m*\u001b[39mkwargs)\n",
      "File \u001b[1;32m~\\anaconda3\\Lib\\site-packages\\matplotlib\\axis.py:2076\u001b[0m, in \u001b[0;36mAxis.set_ticks\u001b[1;34m(self, ticks, labels, minor, **kwargs)\u001b[0m\n\u001b[0;32m   2074\u001b[0m result \u001b[38;5;241m=\u001b[39m \u001b[38;5;28mself\u001b[39m\u001b[38;5;241m.\u001b[39m_set_tick_locations(ticks, minor\u001b[38;5;241m=\u001b[39mminor)\n\u001b[0;32m   2075\u001b[0m \u001b[38;5;28;01mif\u001b[39;00m labels \u001b[38;5;129;01mis\u001b[39;00m \u001b[38;5;129;01mnot\u001b[39;00m \u001b[38;5;28;01mNone\u001b[39;00m:\n\u001b[1;32m-> 2076\u001b[0m     \u001b[38;5;28mself\u001b[39m\u001b[38;5;241m.\u001b[39mset_ticklabels(labels, minor\u001b[38;5;241m=\u001b[39mminor, \u001b[38;5;241m*\u001b[39m\u001b[38;5;241m*\u001b[39mkwargs)\n\u001b[0;32m   2077\u001b[0m \u001b[38;5;28;01mreturn\u001b[39;00m result\n",
      "File \u001b[1;32m~\\anaconda3\\Lib\\site-packages\\matplotlib\\_api\\deprecation.py:297\u001b[0m, in \u001b[0;36mrename_parameter.<locals>.wrapper\u001b[1;34m(*args, **kwargs)\u001b[0m\n\u001b[0;32m    292\u001b[0m     warn_deprecated(\n\u001b[0;32m    293\u001b[0m         since, message\u001b[38;5;241m=\u001b[39m\u001b[38;5;124mf\u001b[39m\u001b[38;5;124m\"\u001b[39m\u001b[38;5;124mThe \u001b[39m\u001b[38;5;132;01m{\u001b[39;00mold\u001b[38;5;132;01m!r}\u001b[39;00m\u001b[38;5;124m parameter of \u001b[39m\u001b[38;5;132;01m{\u001b[39;00mfunc\u001b[38;5;241m.\u001b[39m\u001b[38;5;18m__name__\u001b[39m\u001b[38;5;132;01m}\u001b[39;00m\u001b[38;5;124m() \u001b[39m\u001b[38;5;124m\"\u001b[39m\n\u001b[0;32m    294\u001b[0m         \u001b[38;5;124mf\u001b[39m\u001b[38;5;124m\"\u001b[39m\u001b[38;5;124mhas been renamed \u001b[39m\u001b[38;5;132;01m{\u001b[39;00mnew\u001b[38;5;132;01m!r}\u001b[39;00m\u001b[38;5;124m since Matplotlib \u001b[39m\u001b[38;5;132;01m{\u001b[39;00msince\u001b[38;5;132;01m}\u001b[39;00m\u001b[38;5;124m; support \u001b[39m\u001b[38;5;124m\"\u001b[39m\n\u001b[0;32m    295\u001b[0m         \u001b[38;5;124mf\u001b[39m\u001b[38;5;124m\"\u001b[39m\u001b[38;5;124mfor the old name will be dropped %(removal)s.\u001b[39m\u001b[38;5;124m\"\u001b[39m)\n\u001b[0;32m    296\u001b[0m     kwargs[new] \u001b[38;5;241m=\u001b[39m kwargs\u001b[38;5;241m.\u001b[39mpop(old)\n\u001b[1;32m--> 297\u001b[0m \u001b[38;5;28;01mreturn\u001b[39;00m func(\u001b[38;5;241m*\u001b[39margs, \u001b[38;5;241m*\u001b[39m\u001b[38;5;241m*\u001b[39mkwargs)\n",
      "File \u001b[1;32m~\\anaconda3\\Lib\\site-packages\\matplotlib\\axis.py:1962\u001b[0m, in \u001b[0;36mAxis.set_ticklabels\u001b[1;34m(self, labels, minor, fontdict, **kwargs)\u001b[0m\n\u001b[0;32m   1959\u001b[0m     labels \u001b[38;5;241m=\u001b[39m [t\u001b[38;5;241m.\u001b[39mget_text() \u001b[38;5;28;01mif\u001b[39;00m \u001b[38;5;28mhasattr\u001b[39m(t, \u001b[38;5;124m'\u001b[39m\u001b[38;5;124mget_text\u001b[39m\u001b[38;5;124m'\u001b[39m) \u001b[38;5;28;01melse\u001b[39;00m t\n\u001b[0;32m   1960\u001b[0m               \u001b[38;5;28;01mfor\u001b[39;00m t \u001b[38;5;129;01min\u001b[39;00m labels]\n\u001b[0;32m   1961\u001b[0m \u001b[38;5;28;01mexcept\u001b[39;00m \u001b[38;5;167;01mTypeError\u001b[39;00m:\n\u001b[1;32m-> 1962\u001b[0m     \u001b[38;5;28;01mraise\u001b[39;00m \u001b[38;5;167;01mTypeError\u001b[39;00m(\u001b[38;5;124mf\u001b[39m\u001b[38;5;124m\"\u001b[39m\u001b[38;5;132;01m{\u001b[39;00mlabels\u001b[38;5;132;01m:\u001b[39;00m\u001b[38;5;124m=\u001b[39m\u001b[38;5;132;01m}\u001b[39;00m\u001b[38;5;124m must be a sequence\u001b[39m\u001b[38;5;124m\"\u001b[39m) \u001b[38;5;28;01mfrom\u001b[39;00m \u001b[38;5;28;01mNone\u001b[39;00m\n\u001b[0;32m   1963\u001b[0m locator \u001b[38;5;241m=\u001b[39m (\u001b[38;5;28mself\u001b[39m\u001b[38;5;241m.\u001b[39mget_minor_locator() \u001b[38;5;28;01mif\u001b[39;00m minor\n\u001b[0;32m   1964\u001b[0m            \u001b[38;5;28;01melse\u001b[39;00m \u001b[38;5;28mself\u001b[39m\u001b[38;5;241m.\u001b[39mget_major_locator())\n\u001b[0;32m   1965\u001b[0m \u001b[38;5;28;01mif\u001b[39;00m \u001b[38;5;28misinstance\u001b[39m(locator, mticker\u001b[38;5;241m.\u001b[39mFixedLocator):\n\u001b[0;32m   1966\u001b[0m     \u001b[38;5;66;03m# Passing [] as a list of labels is often used as a way to\u001b[39;00m\n\u001b[0;32m   1967\u001b[0m     \u001b[38;5;66;03m# remove all tick labels, so only error for > 0 labels\u001b[39;00m\n",
      "\u001b[1;31mTypeError\u001b[0m: 5.0 must be a sequence"
     ]
    },
    {
     "data": {
      "image/png": "[encoded data removed]",
      "text/plain": [
       "<Figure size 1500x500 with 2 Axes>"
      ]
     },
     "metadata": {},
     "output_type": "display_data"
    }
   ],
   "source": [
    "model.compile(loss='categorical_crossentropy',optimizer=Adam(lr=0.0001),metrics=['accuracy'])\n",
    "model_info = model.fit_generator(\n",
    "            train_generator,\n",
    "            steps_per_epoch=num_train // batch_size,\n",
    "            epochs=num_epoch,\n",
    "            validation_data=validation_generator,\n",
    "            validation_steps=num_val // batch_size)\n",
    "plot_model_history(model_info)"
   ]
  },
  {
   "cell_type": "code",
   "execution_count": 26,
   "id": "458cb910",
   "metadata": {},
   "outputs": [],
   "source": [
    "model.save_weights('C:/Users/sange/pract/kaggle compete/face expression detector/archive/model.h5')"
   ]
  },
  {
   "cell_type": "code",
   "execution_count": 29,
   "id": "c67a2e34",
   "metadata": {},
   "outputs": [
    {
     "name": "stdout",
     "output_type": "stream",
     "text": [
      "1/1 [==============================] - 0s 25ms/step\n",
      "1/1 [==============================] - 0s 27ms/step\n",
      "1/1 [==============================] - 0s 26ms/step\n",
      "1/1 [==============================] - 0s 27ms/step\n",
      "1/1 [==============================] - 0s 28ms/step\n",
      "1/1 [==============================] - 0s 26ms/step\n",
      "1/1 [==============================] - 0s 26ms/step\n",
      "1/1 [==============================] - 0s 29ms/step\n",
      "1/1 [==============================] - 0s 28ms/step\n",
      "1/1 [==============================] - 0s 27ms/step\n",
      "1/1 [==============================] - 0s 30ms/step\n",
      "1/1 [==============================] - 0s 27ms/step\n",
      "1/1 [==============================] - 0s 28ms/step\n",
      "1/1 [==============================] - 0s 27ms/step\n",
      "1/1 [==============================] - 0s 35ms/step\n",
      "1/1 [==============================] - 0s 25ms/step\n",
      "1/1 [==============================] - 0s 26ms/step\n",
      "1/1 [==============================] - 0s 27ms/step\n",
      "1/1 [==============================] - 0s 36ms/step\n",
      "1/1 [==============================] - 0s 25ms/step\n",
      "1/1 [==============================] - 0s 26ms/step\n",
      "1/1 [==============================] - 0s 26ms/step\n",
      "1/1 [==============================] - 0s 26ms/step\n",
      "1/1 [==============================] - 0s 25ms/step\n",
      "1/1 [==============================] - 0s 25ms/step\n",
      "1/1 [==============================] - 0s 26ms/step\n"
     ]
    }
   ],
   "source": [
    "model.load_weights('C:/Users/sange/pract/kaggle compete/face expression detector/archive/model.h5')\n",
    "# prevents openCL usage and unnecessary logging messages\n",
    "cv2.ocl.setUseOpenCL(False)\n",
    "# dictionary which assigns each label an emotion (alphabetical order)\n",
    "emotion_dict = {0: \"Angry\", 1: \"Disgusted\", 2: \"Fearful\", 3: \"Happy\", 4: \"Neutral\", 5: \"Sad\", 6: \"Surprised\"}\n",
    "# start the webcam feed\n",
    "cap = cv2.VideoCapture(0)\n",
    "while True:\n",
    "    # Find haar cascade to draw bounding box around face\n",
    "    ret, frame = cap.read()\n",
    "    if not ret:\n",
    "        break\n",
    "    facecasc = cv2.CascadeClassifier('haarcascade_frontalface_default.xml')\n",
    "    gray = cv2.cvtColor(frame, cv2.COLOR_BGR2GRAY)\n",
    "    faces = facecasc.detectMultiScale(gray,scaleFactor=1.3, minNeighbors=5)\n",
    "    for (x, y, w, h) in faces:\n",
    "        cv2.rectangle(frame, (x, y-50), (x+w, y+h+10), (255, 0, 0), 2)\n",
    "        roi_gray = gray[y:y + h, x:x + w]\n",
    "        cropped_img = np.expand_dims(np.expand_dims(cv2.resize(roi_gray, (48, 48)), -1), 0)\n",
    "        prediction = model.predict(cropped_img)\n",
    "        maxindex = int(np.argmax(prediction))\n",
    "        cv2.putText(frame, emotion_dict[maxindex], (x+20, y-60), cv2.FONT_HERSHEY_SIMPLEX, 1, (255, 255, 255), 2, cv2.LINE_AA)\n",
    "    cv2.imshow('Video', cv2.resize(frame,(1600,960),interpolation = cv2.INTER_CUBIC))\n",
    "    if cv2.waitKey(1) & 0xFF == ord('q'):\n",
    "        break\n",
    "cap.release()\n",
    "cv2.destroyAllWindows()"
   ]
  },
  {
   "cell_type": "code",
   "execution_count": null,
   "id": "5b0f5f0b",
   "metadata": {},
   "outputs": [],
   "source": []
  }
 ],
 "metadata": {
  "kernelspec": {
   "display_name": "Python 3 (ipykernel)",
   "language": "python",
   "name": "python3"
  },
  "language_info": {
   "codemirror_mode": {
    "name": "ipython",
    "version": 3
   },
   "file_extension": ".py",
   "mimetype": "text/x-python",
   "name": "python",
   "nbconvert_exporter": "python",
   "pygments_lexer": "ipython3",
   "version": "3.11.5"
  }
 },
 "nbformat": 4,
 "nbformat_minor": 5
}
